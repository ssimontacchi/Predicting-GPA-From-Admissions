{
 "cells": [
  {
   "cell_type": "code",
   "execution_count": 1,
   "metadata": {},
   "outputs": [],
   "source": [
    "from IPython.core.display import HTML\n",
    "%matplotlib inline\n",
    "import matplotlib.pyplot as plt\n",
    "import numpy as np\n",
    "import pandas as pd\n",
    "import seaborn as sns\n",
    "from sklearn.model_selection import GridSearchCV\n",
    "from sklearn.model_selection import ShuffleSplit\n",
    "from sklearn.ensemble import RandomForestRegressor\n",
    "\n",
    "# Setup Seaborn\n",
    "sns.set_style(\"whitegrid\")\n",
    "sns.set_context(\"poster\")"
   ]
  },
  {
   "cell_type": "code",
   "execution_count": 2,
   "metadata": {},
   "outputs": [
    {
     "data": {
      "text/html": [
       "<style>body {\n",
       "    margin: 0;\n",
       "    font-family: Helvetica;\n",
       "}\n",
       "table.dataframe {\n",
       "    border-collapse: collapse;\n",
       "    border: none;\n",
       "}\n",
       "table.dataframe tr {\n",
       "    border: none;\n",
       "}\n",
       "table.dataframe td, table.dataframe th {\n",
       "    margin: 0;\n",
       "    border: 1px solid white;\n",
       "    padding-left: 0.25em;\n",
       "    padding-right: 0.25em;\n",
       "}\n",
       "table.dataframe th:not(:empty) {\n",
       "    background-color: #fec;\n",
       "    text-align: left;\n",
       "    font-weight: normal;\n",
       "}\n",
       "table.dataframe tr:nth-child(2) th:empty {\n",
       "    border-left: none;\n",
       "    border-right: 1px dashed #888;\n",
       "}\n",
       "table.dataframe td {\n",
       "    border: 2px solid #ccf;\n",
       "    background-color: #f4f4ff;\n",
       "}\n",
       "h3 {\n",
       "    color: white;\n",
       "    background-color: black;\n",
       "    padding: 0.5em;\n",
       "}\n",
       "</style>"
      ],
      "text/plain": [
       "<IPython.core.display.HTML object>"
      ]
     },
     "execution_count": 2,
     "metadata": {},
     "output_type": "execute_result"
    }
   ],
   "source": [
    "style_table = open('/Users/Scott/Desktop/Data/style-table.css').read()\n",
    "style_notebook = open('/Users/Scott/Desktop/Data/style-notebook.css').read()\n",
    "HTML('<style>{}</style>'.format(style_table + style_notebook))"
   ]
  },
  {
   "cell_type": "markdown",
   "metadata": {
    "collapsed": true
   },
   "source": [
    "# Best predictors of GPA success from a private school admissions profile using Random Forest\n"
   ]
  },
  {
   "cell_type": "markdown",
   "metadata": {},
   "source": [
    "## Cleaning the Admissions Data\n",
    "##### The first step was to take the admissions files and format them in Excel so that students who took the ISEE or SSAT entrance exams could be compared by looking at national percentile score. Also, admissions recommendations ratings shifted from a scale out of 4 to out of 5 over the years, so the scale needed to be standardized."
   ]
  },
  {
   "cell_type": "code",
   "execution_count": 3,
   "metadata": {},
   "outputs": [],
   "source": [
    "# Combines edited admissions files into a single dataframe with both ISEE and SSAT percentiles, \n",
    "# retaining that information.\n",
    "\n",
    "# Puts admissions data files into a list, reads them, and creates a dataframe.\n",
    "count = 4\n",
    "files = []\n",
    "\n",
    "for _ in range(5):\n",
    "    files.append('/Users/Scott/Desktop/Data/Admissions/0'+str(count)+'_0'+str(count+1)+'.xlsx')\n",
    "    count += 1\n",
    "    \n",
    "for _ in range(1):\n",
    "    files.append('/Users/Scott/Desktop/Data/Admissions/0'+str(count)+'_'+str(count+1)+'.xlsx')\n",
    "    count += 1\n",
    "    \n",
    "for _ in range(8):\n",
    "    files.append('/Users/Scott/Desktop/Data/Admissions/'+str(count)+'_'+str(count+1)+'.xlsx')\n",
    "    count += 1\n",
    "    \n",
    "counter = 0\n",
    "for file in files:\n",
    "    files[counter] = pd.read_excel(file)\n",
    "    files[counter] = files[counter].dropna(axis=1, how=\"all\")\n",
    "    files[counter] = files[counter].dropna(axis=0, how=\"all\")\n",
    "    counter += 1\n",
    "\n",
    "# df_allstudents is a dataframe of all admissions data\n",
    "df_allstudents = pd.DataFrame()\n",
    "for file in files:\n",
    "    df_allstudents = pd.concat([df_allstudents, file], sort=True)"
   ]
  },
  {
   "cell_type": "code",
   "execution_count": 4,
   "metadata": {},
   "outputs": [],
   "source": [
    "# Isolates certain columns to show cum. GPA, grades, testing, recommendation scores, sex, year of \n",
    "# entry and exit, grade applied to, financial aid, city, zip, has a sibling, has a parent who \n",
    "# attended, and has a faculty parent. Create a copy to void SettingwithCopyWarning later on.\n",
    "\n",
    "allstudents_cleaner = df_allstudents[['Cum','Eng_Rec_Rating','English_1','Ethnicity','FA_Request',\n",
    "                                      'FL_1','Grade_apply','History_1','Inquiry_source',\n",
    "                                      'Interview','Math','Math_1','Math_rec_rating',\n",
    "                                      'Princ_Rec_Rating','Quantitative','Reading',\n",
    "                                      'School_admprevious','Science_1','Sex','Test','Verbal',\n",
    "                                      'Writing','YOE','YOX','inq_FAM Family 1 [c]::P_city',\n",
    "                                      'isFacultyStudent', 'isLegacy', 'isSibling',\n",
    "                                      'NameLast']].copy()"
   ]
  },
  {
   "cell_type": "code",
   "execution_count": 5,
   "metadata": {},
   "outputs": [],
   "source": [
    "# if no data, fill with 0 \n",
    "fillna_list = ['FA_Request','isFacultyStudent','isLegacy','isSibling','Inquiry_source']\n",
    "\n",
    "for col in fillna_list:\n",
    "    allstudents_cleaner[col] = allstudents_cleaner.loc[:, col].fillna(value=0)\n",
    "\n",
    "# replaces infrequent values with more general values\n",
    "changes = [('3+',2.78), ('A/A-','A'),('A+/A','A+'),('A-/B-','B+'),('C+/B+','B'),('C+/A /A-','A-'),\n",
    "           ('Multi-ethnic or Other (please describe)','Multi-Ethnic or Other'),\n",
    "           ('Multi-Ethnic or Other/AsAm','Multi-Ethnic or Other'),\n",
    "           ('Multi-Ethnic or Other/Asian, cauc','Multi-Ethnic or Other'),\n",
    "           ('Multi-EthKoreameri','Multi-Ethnic or Other'),\n",
    "           ('Multi-Eth As/Cauc','Multi-Ethnic or Other'),\n",
    "           ('Middle Eastern Americasian amer','Multi-Ethnic or Other'),\n",
    "           ('?','sf'),(44.00,4.00),('4-',3.06),('A-/sf','A-'),('Pass','sf')]\n",
    "for change in changes:\n",
    "    allstudents_cleaner = allstudents_cleaner.replace(change[0], change[1])\n",
    "    \n",
    "allstudents_cleaner = allstudents_cleaner[pd.notnull(allstudents_cleaner['YOX'])]\n",
    "\n",
    "# chooses the most common value for empty values for any empty values\n",
    "allstudents_cleaner = allstudents_cleaner.apply(lambda x:x.fillna(x.value_counts().index[0]))"
   ]
  },
  {
   "cell_type": "markdown",
   "metadata": {},
   "source": [
    "\n",
    "\n",
    "## Cleaning the GPA Data\n"
   ]
  },
  {
   "cell_type": "code",
   "execution_count": 6,
   "metadata": {},
   "outputs": [],
   "source": [
    "# creates ClassYear object that keeps the filename and year of exit (graduation) together\n",
    "class ClassYear:\n",
    "    def __init__(self, year):\n",
    "        year_abbrev = '\\'' + str(year)[2:]    # i.e. '08\n",
    "        self.filename = '/Users/Scott/Desktop/Data/Academics/Class of ' + year_abbrev + ' GPA.xls'\n",
    "        self.YOX = str(year-1) + \"-\" + str(year)\n",
    "    \n",
    "    def get_filename(self):\n",
    "        return self.filename\n",
    "    \n",
    "    def get_YOX(self):\n",
    "        return self.YOX"
   ]
  },
  {
   "cell_type": "code",
   "execution_count": 7,
   "metadata": {},
   "outputs": [],
   "source": [
    "# Puts GPA data files into a list, reads them, and creates a dataframe of name, year of exit, and final GPA for merging\n",
    "\n",
    "class_years = [ClassYear(year) for year in range(2008, 2018)]\n",
    "    \n",
    "# df_allacademics is a dataframe of all admissions data, include year of exit (graduation) column\n",
    "\n",
    "df_allacademics = pd.DataFrame()\n",
    "df_allacademics['YOX'] = pd.Series()\n",
    "\n",
    "for grade in class_years:\n",
    "    df_allacademics = pd.concat([df_allacademics, pd.read_excel(grade.filename)], sort=True)\n",
    "    df_allacademics['YOX'] = df_allacademics['YOX'].fillna(value=grade.get_YOX())"
   ]
  },
  {
   "cell_type": "code",
   "execution_count": 8,
   "metadata": {},
   "outputs": [],
   "source": [
    "# creates df of only name and GPA, sorted by name\n",
    "df_allacademics = df_allacademics[['NameLast','YOX','3-8']].dropna(axis=0, how=\"all\").sort_values(['NameLast'])\n",
    "df_allacademics.columns = ['NameLast','YOX','Grad_GPA']"
   ]
  },
  {
   "cell_type": "markdown",
   "metadata": {},
   "source": [
    "\n",
    "## Merge Admissions and GPA data to prepare for RandomForest"
   ]
  },
  {
   "cell_type": "code",
   "execution_count": 9,
   "metadata": {},
   "outputs": [],
   "source": [
    "admissions_with_GPA = pd.merge(allstudents_cleaner, df_allacademics, on=['NameLast','YOX'])\n",
    "admissions_with_GPA = admissions_with_GPA[admissions_with_GPA.Grad_GPA.notnull()]"
   ]
  },
  {
   "cell_type": "code",
   "execution_count": 10,
   "metadata": {},
   "outputs": [
    {
     "data": {
      "text/html": [
       "<div>\n",
       "<style scoped>\n",
       "    .dataframe tbody tr th:only-of-type {\n",
       "        vertical-align: middle;\n",
       "    }\n",
       "\n",
       "    .dataframe tbody tr th {\n",
       "        vertical-align: top;\n",
       "    }\n",
       "\n",
       "    .dataframe thead th {\n",
       "        text-align: right;\n",
       "    }\n",
       "</style>\n",
       "<table border=\"1\" class=\"dataframe\">\n",
       "  <thead>\n",
       "    <tr style=\"text-align: right;\">\n",
       "      <th></th>\n",
       "      <th>Cumulative GPA</th>\n",
       "    </tr>\n",
       "    <tr>\n",
       "      <th>Grade_apply</th>\n",
       "      <th></th>\n",
       "    </tr>\n",
       "  </thead>\n",
       "  <tbody>\n",
       "    <tr>\n",
       "      <th>9s</th>\n",
       "      <td>3.636868</td>\n",
       "    </tr>\n",
       "    <tr>\n",
       "      <th>6s</th>\n",
       "      <td>3.783627</td>\n",
       "    </tr>\n",
       "  </tbody>\n",
       "</table>\n",
       "</div>"
      ],
      "text/plain": [
       "             Cumulative GPA\n",
       "Grade_apply                \n",
       "9s                 3.636868\n",
       "6s                 3.783627"
      ]
     },
     "execution_count": 10,
     "metadata": {},
     "output_type": "execute_result"
    }
   ],
   "source": [
    "# fun finding: students who come in 6th graduate with higher GPAs than those who come in 9th\n",
    "\n",
    "sixes_or_nines = admissions_with_GPA.groupby(admissions_with_GPA.Grade_apply == 6).mean()\n",
    "sixes_or_nines = sixes_or_nines['Grad_GPA'].to_frame()\n",
    "sixes_or_nines = sixes_or_nines.rename({False: '9s', True: '6s'})\n",
    "sixes_or_nines.columns = ['Cumulative GPA']\n",
    "sixes_or_nines"
   ]
  },
  {
   "cell_type": "code",
   "execution_count": 11,
   "metadata": {},
   "outputs": [],
   "source": [
    "# create dummy variables\n",
    "\n",
    "courses = ['Ethnicity','Inquiry_source','Sex','YOE','YOX','inq_FAM Family 1 [c]::P_city',\n",
    "        'English_1','FL_1','History_1','Math_1','Science_1','Test', 'School_admprevious']\n",
    "\n",
    "data_w_dummies = admissions_with_GPA.drop(['NameLast','Cum'], axis=1)\n",
    "\n",
    "counter = 0\n",
    "for col in courses:\n",
    "    foo = pd.get_dummies(data_w_dummies[col], prefix=col)\n",
    "    data_w_dummies = pd.concat([data_w_dummies.drop(col, axis=1), foo], axis=1, join='inner')\n",
    "    counter += 1"
   ]
  },
  {
   "cell_type": "code",
   "execution_count": 12,
   "metadata": {},
   "outputs": [],
   "source": [
    "# set up training and testing data\n",
    "\n",
    "# move Grad_GPA to end of the df for easy feature selection slicing\n",
    "data_w_dummies = data_w_dummies.reset_index().drop(['index'], axis=1).copy()\n",
    "cols = data_w_dummies.columns.tolist()\n",
    "cols.insert(len(cols)-1, cols.pop(cols.index('Grad_GPA')))\n",
    "df = data_w_dummies[cols].copy()\n",
    "\n",
    "sixes = df[df.Grade_apply==6].copy()\n",
    "nines = df[df.Grade_apply==9].copy()\n",
    "\n",
    "df['is_train'] = np.random.uniform(0, 1, len(df)) <= .75\n",
    "\n",
    "sixes['is_train'] = np.random.uniform(0, 1, len(sixes)) <= .75\n",
    "nines['is_train'] = np.random.uniform(0, 1, len(nines)) <= .75\n",
    "\n",
    "train, test = df[df['is_train']==True], df[df['is_train']==False]\n",
    "\n",
    "train_sixes, test_sixes = sixes[sixes['is_train']==True], sixes[sixes['is_train']==False]\n",
    "train_nines, test_nines = nines[nines['is_train']==True], nines[nines['is_train']==False]\n",
    "\n",
    "# features are everything but last two columns\n",
    "features = df.columns[:(len(df.columns)-2)]\n",
    "features_sixes = sixes.columns[:(len(sixes.columns)-2)]\n",
    "features_nines = nines.columns[:(len(nines.columns)-2)]"
   ]
  },
  {
   "cell_type": "code",
   "execution_count": 13,
   "metadata": {},
   "outputs": [],
   "source": [
    "# random forests for all, sixes, and nines\n",
    "\n",
    "clf = RandomForestRegressor()\n",
    "sixes_rf = RandomForestRegressor()\n",
    "nines_rf = RandomForestRegressor()\n",
    "\n",
    "X = train[features]\n",
    "y = train['Grad_GPA']\n",
    "clf.fit(X,y)\n",
    "\n",
    "X_sixes = train_sixes[features_sixes]\n",
    "y_sixes = train_sixes['Grad_GPA']\n",
    "sixes_rf.fit(X_sixes,y_sixes)\n",
    "\n",
    "X_nines = train_nines[features_nines]\n",
    "y_nines = train_nines['Grad_GPA']\n",
    "nines_rf.fit(X_nines,y_nines)\n",
    "\n",
    "preds = clf.predict(test[features])\n",
    "results = pd.crosstab(test['Grad_GPA'], preds, rownames=['actual'], \n",
    "                      colnames=['preds'])\n",
    "\n",
    "preds_sixes = sixes_rf.predict(test_sixes[features_sixes])\n",
    "results_sixes = pd.crosstab(test_sixes['Grad_GPA'], preds_sixes, rownames=['actual'], \n",
    "                            colnames=['preds'])\n",
    "\n",
    "preds_nines = nines_rf.predict(test_nines[features_nines])\n",
    "results_nines = pd.crosstab(test_nines['Grad_GPA'], preds_nines, rownames=['actual'], \n",
    "                            colnames=['preds'])"
   ]
  },
  {
   "cell_type": "code",
   "execution_count": 14,
   "metadata": {},
   "outputs": [],
   "source": [
    "def Grid_Search_CV_RFR(X_train, y_train):\n",
    "    estimator = RandomForestRegressor()\n",
    "    param_grid = { \n",
    "            \"n_estimators\"      : [10,20,30],\n",
    "            \"max_features\"      : [\"auto\", \"sqrt\", \"log2\"],\n",
    "            \"min_samples_split\" : [2,4,8],\n",
    "            \"bootstrap\": [True, False],\n",
    "            }\n",
    "\n",
    "    grid = GridSearchCV(estimator, param_grid, n_jobs=-1, cv=5)\n",
    "\n",
    "    grid.fit(X_train, y_train)\n",
    "\n",
    "    return grid.best_score_ , grid.best_params_\n"
   ]
  },
  {
   "cell_type": "code",
   "execution_count": 15,
   "metadata": {
    "scrolled": true
   },
   "outputs": [],
   "source": [
    "grid_search_all = Grid_Search_CV_RFR(X,y)\n",
    "grid_search_sixes = Grid_Search_CV_RFR(X_sixes,y_sixes)\n",
    "grid_search_nines = Grid_Search_CV_RFR(X_nines,y_nines)"
   ]
  },
  {
   "cell_type": "code",
   "execution_count": 16,
   "metadata": {},
   "outputs": [
    {
     "name": "stdout",
     "output_type": "stream",
     "text": [
      "R2 score: 0.37960999343312374\n"
     ]
    }
   ],
   "source": [
    "# regression for whole dataset\n",
    "\n",
    "from sklearn.ensemble import RandomForestRegressor\n",
    "\n",
    "test_x = test[features]\n",
    "train_x = train[features]\n",
    "X = train_x\n",
    "y= train['Grad_GPA']\n",
    "\n",
    "rf = RandomForestRegressor(n_jobs=-1)\n",
    "estimator = rf.set_params(bootstrap=grid_search_all[1]['bootstrap'], \n",
    "                          max_features=grid_search_all[1]['max_features'],\n",
    "                          min_samples_split=grid_search_all[1]['min_samples_split'],\n",
    "                          n_estimators=grid_search_all[1]['n_estimators'])\n",
    "estimator.fit(X,y)\n",
    "\n",
    "GPA_reshape = test['Grad_GPA'].values\n",
    "\n",
    "print(\"R2 score:\", estimator.score(test_x, GPA_reshape))\n",
    "\n",
    "estimator.feature_importances_\n",
    "\n",
    "df_all = pd.DataFrame(estimator.feature_importances_, test_x.columns.values)\n",
    "df_all.columns = ['correlations']\n",
    "df_all = df_all.sort_values('correlations', ascending=False)"
   ]
  },
  {
   "cell_type": "code",
   "execution_count": 17,
   "metadata": {},
   "outputs": [
    {
     "data": {
      "text/html": [
       "<div>\n",
       "<style scoped>\n",
       "    .dataframe tbody tr th:only-of-type {\n",
       "        vertical-align: middle;\n",
       "    }\n",
       "\n",
       "    .dataframe tbody tr th {\n",
       "        vertical-align: top;\n",
       "    }\n",
       "\n",
       "    .dataframe thead th {\n",
       "        text-align: right;\n",
       "    }\n",
       "</style>\n",
       "<table border=\"1\" class=\"dataframe\">\n",
       "  <thead>\n",
       "    <tr style=\"text-align: right;\">\n",
       "      <th></th>\n",
       "      <th>correlations</th>\n",
       "    </tr>\n",
       "  </thead>\n",
       "  <tbody>\n",
       "    <tr>\n",
       "      <th>Verbal</th>\n",
       "      <td>0.092</td>\n",
       "    </tr>\n",
       "    <tr>\n",
       "      <th>Quantitative</th>\n",
       "      <td>0.070</td>\n",
       "    </tr>\n",
       "    <tr>\n",
       "      <th>Reading</th>\n",
       "      <td>0.062</td>\n",
       "    </tr>\n",
       "    <tr>\n",
       "      <th>Science_1_B</th>\n",
       "      <td>0.038</td>\n",
       "    </tr>\n",
       "    <tr>\n",
       "      <th>Princ_Rec_Rating</th>\n",
       "      <td>0.031</td>\n",
       "    </tr>\n",
       "    <tr>\n",
       "      <th>Math</th>\n",
       "      <td>0.029</td>\n",
       "    </tr>\n",
       "    <tr>\n",
       "      <th>Writing</th>\n",
       "      <td>0.024</td>\n",
       "    </tr>\n",
       "    <tr>\n",
       "      <th>Eng_Rec_Rating</th>\n",
       "      <td>0.024</td>\n",
       "    </tr>\n",
       "    <tr>\n",
       "      <th>School_admprevious_KIPP Bayview Academy</th>\n",
       "      <td>0.022</td>\n",
       "    </tr>\n",
       "    <tr>\n",
       "      <th>Math_rec_rating</th>\n",
       "      <td>0.019</td>\n",
       "    </tr>\n",
       "  </tbody>\n",
       "</table>\n",
       "</div>"
      ],
      "text/plain": [
       "                                         correlations\n",
       "Verbal                                          0.092\n",
       "Quantitative                                    0.070\n",
       "Reading                                         0.062\n",
       "Science_1_B                                     0.038\n",
       "Princ_Rec_Rating                                0.031\n",
       "Math                                            0.029\n",
       "Writing                                         0.024\n",
       "Eng_Rec_Rating                                  0.024\n",
       "School_admprevious_KIPP Bayview Academy         0.022\n",
       "Math_rec_rating                                 0.019"
      ]
     },
     "execution_count": 17,
     "metadata": {},
     "output_type": "execute_result"
    }
   ],
   "source": [
    "df_all = df_all.round(3)\n",
    "df_all.head(10)"
   ]
  },
  {
   "cell_type": "code",
   "execution_count": 18,
   "metadata": {},
   "outputs": [
    {
     "data": {
      "text/plain": [
       "<matplotlib.lines.Line2D at 0x1139b6fd0>"
      ]
     },
     "execution_count": 18,
     "metadata": {},
     "output_type": "execute_result"
    },
    {
     "data": {
      "image/png": "[encoded data removed]",
      "text/plain": [
       "<Figure size 432x288 with 1 Axes>"
      ]
     },
     "metadata": {},
     "output_type": "display_data"
    }
   ],
   "source": [
    "df_all[0:8].plot(kind='bar'); plt.axhline(0, color='k')"
   ]
  },
  {
   "cell_type": "code",
   "execution_count": 19,
   "metadata": {},
   "outputs": [
    {
     "name": "stdout",
     "output_type": "stream",
     "text": [
      "R2 score: 0.20329489001289613\n"
     ]
    },
    {
     "data": {
      "text/html": [
       "<div>\n",
       "<style scoped>\n",
       "    .dataframe tbody tr th:only-of-type {\n",
       "        vertical-align: middle;\n",
       "    }\n",
       "\n",
       "    .dataframe tbody tr th {\n",
       "        vertical-align: top;\n",
       "    }\n",
       "\n",
       "    .dataframe thead th {\n",
       "        text-align: right;\n",
       "    }\n",
       "</style>\n",
       "<table border=\"1\" class=\"dataframe\">\n",
       "  <thead>\n",
       "    <tr style=\"text-align: right;\">\n",
       "      <th></th>\n",
       "      <th>correlations</th>\n",
       "    </tr>\n",
       "  </thead>\n",
       "  <tbody>\n",
       "    <tr>\n",
       "      <th>Verbal</th>\n",
       "      <td>0.290353</td>\n",
       "    </tr>\n",
       "    <tr>\n",
       "      <th>Quantitative</th>\n",
       "      <td>0.100388</td>\n",
       "    </tr>\n",
       "    <tr>\n",
       "      <th>Math</th>\n",
       "      <td>0.095906</td>\n",
       "    </tr>\n",
       "    <tr>\n",
       "      <th>Math_rec_rating</th>\n",
       "      <td>0.044268</td>\n",
       "    </tr>\n",
       "    <tr>\n",
       "      <th>School_admprevious_Belmont Oaks Academy</th>\n",
       "      <td>0.035194</td>\n",
       "    </tr>\n",
       "    <tr>\n",
       "      <th>Eng_Rec_Rating</th>\n",
       "      <td>0.033405</td>\n",
       "    </tr>\n",
       "    <tr>\n",
       "      <th>Reading</th>\n",
       "      <td>0.032350</td>\n",
       "    </tr>\n",
       "    <tr>\n",
       "      <th>Ethnicity_Caucasian</th>\n",
       "      <td>0.028379</td>\n",
       "    </tr>\n",
       "    <tr>\n",
       "      <th>Princ_Rec_Rating</th>\n",
       "      <td>0.025186</td>\n",
       "    </tr>\n",
       "    <tr>\n",
       "      <th>FA_Request</th>\n",
       "      <td>0.023868</td>\n",
       "    </tr>\n",
       "  </tbody>\n",
       "</table>\n",
       "</div>"
      ],
      "text/plain": [
       "                                         correlations\n",
       "Verbal                                       0.290353\n",
       "Quantitative                                 0.100388\n",
       "Math                                         0.095906\n",
       "Math_rec_rating                              0.044268\n",
       "School_admprevious_Belmont Oaks Academy      0.035194\n",
       "Eng_Rec_Rating                               0.033405\n",
       "Reading                                      0.032350\n",
       "Ethnicity_Caucasian                          0.028379\n",
       "Princ_Rec_Rating                             0.025186\n",
       "FA_Request                                   0.023868"
      ]
     },
     "execution_count": 19,
     "metadata": {},
     "output_type": "execute_result"
    }
   ],
   "source": [
    "# regression for sixes\n",
    "\n",
    "from sklearn.ensemble import RandomForestRegressor\n",
    "\n",
    "test_x_sixes= test_sixes[features_sixes]\n",
    "train_x_sixes= train_sixes[features_sixes]\n",
    "X = train_x_sixes\n",
    "y = train_sixes['Grad_GPA']\n",
    "\n",
    "rf = RandomForestRegressor(n_jobs=-1)\n",
    "estimator = rf.set_params(bootstrap=grid_search_sixes[1]['bootstrap'], \n",
    "                          max_features=grid_search_sixes[1]['max_features'],\n",
    "                          min_samples_split=grid_search_sixes[1]['min_samples_split'],\n",
    "                          n_estimators=grid_search_sixes[1]['n_estimators'])\n",
    "\n",
    "estimator.fit(X,y)\n",
    "\n",
    "cum_reshape = test_sixes['Grad_GPA'].values\n",
    "\n",
    "print (\"R2 score:\", estimator.score(test_x_sixes, cum_reshape))\n",
    "\n",
    "estimator.feature_importances_\n",
    "\n",
    "df_6 = pd.DataFrame(estimator.feature_importances_, test_x_sixes.columns.values)\n",
    "df_6.columns = ['correlations']\n",
    "df_6 = df_6.sort_values('correlations', ascending=False)\n",
    "df_6.head(10)"
   ]
  },
  {
   "cell_type": "code",
   "execution_count": 20,
   "metadata": {},
   "outputs": [
    {
     "data": {
      "text/plain": [
       "<matplotlib.lines.Line2D at 0x1137b9198>"
      ]
     },
     "execution_count": 20,
     "metadata": {},
     "output_type": "execute_result"
    },
    {
     "data": {
      "image/png": "[encoded data removed]",
      "text/plain": [
       "<Figure size 432x288 with 1 Axes>"
      ]
     },
     "metadata": {},
     "output_type": "display_data"
    }
   ],
   "source": [
    "df_6[0:8].plot(kind='bar'); plt.axhline(0, color='k')"
   ]
  },
  {
   "cell_type": "code",
   "execution_count": 21,
   "metadata": {},
   "outputs": [
    {
     "name": "stdout",
     "output_type": "stream",
     "text": [
      "R2 score: 0.4716638849464228\n"
     ]
    },
    {
     "data": {
      "text/html": [
       "<div>\n",
       "<style scoped>\n",
       "    .dataframe tbody tr th:only-of-type {\n",
       "        vertical-align: middle;\n",
       "    }\n",
       "\n",
       "    .dataframe tbody tr th {\n",
       "        vertical-align: top;\n",
       "    }\n",
       "\n",
       "    .dataframe thead th {\n",
       "        text-align: right;\n",
       "    }\n",
       "</style>\n",
       "<table border=\"1\" class=\"dataframe\">\n",
       "  <thead>\n",
       "    <tr style=\"text-align: right;\">\n",
       "      <th></th>\n",
       "      <th>correlations</th>\n",
       "    </tr>\n",
       "  </thead>\n",
       "  <tbody>\n",
       "    <tr>\n",
       "      <th>Verbal</th>\n",
       "      <td>0.114953</td>\n",
       "    </tr>\n",
       "    <tr>\n",
       "      <th>Quantitative</th>\n",
       "      <td>0.103755</td>\n",
       "    </tr>\n",
       "    <tr>\n",
       "      <th>Reading</th>\n",
       "      <td>0.083305</td>\n",
       "    </tr>\n",
       "    <tr>\n",
       "      <th>Math</th>\n",
       "      <td>0.044966</td>\n",
       "    </tr>\n",
       "    <tr>\n",
       "      <th>Princ_Rec_Rating</th>\n",
       "      <td>0.024200</td>\n",
       "    </tr>\n",
       "    <tr>\n",
       "      <th>Eng_Rec_Rating</th>\n",
       "      <td>0.020638</td>\n",
       "    </tr>\n",
       "    <tr>\n",
       "      <th>YOX_2009-2010</th>\n",
       "      <td>0.019967</td>\n",
       "    </tr>\n",
       "    <tr>\n",
       "      <th>Ethnicity_African American, Black</th>\n",
       "      <td>0.019361</td>\n",
       "    </tr>\n",
       "    <tr>\n",
       "      <th>Writing</th>\n",
       "      <td>0.018658</td>\n",
       "    </tr>\n",
       "    <tr>\n",
       "      <th>School_admprevious_KIPP Bayview Academy</th>\n",
       "      <td>0.018635</td>\n",
       "    </tr>\n",
       "  </tbody>\n",
       "</table>\n",
       "</div>"
      ],
      "text/plain": [
       "                                         correlations\n",
       "Verbal                                       0.114953\n",
       "Quantitative                                 0.103755\n",
       "Reading                                      0.083305\n",
       "Math                                         0.044966\n",
       "Princ_Rec_Rating                             0.024200\n",
       "Eng_Rec_Rating                               0.020638\n",
       "YOX_2009-2010                                0.019967\n",
       "Ethnicity_African American, Black            0.019361\n",
       "Writing                                      0.018658\n",
       "School_admprevious_KIPP Bayview Academy      0.018635"
      ]
     },
     "execution_count": 21,
     "metadata": {},
     "output_type": "execute_result"
    }
   ],
   "source": [
    "# regression for nines\n",
    "\n",
    "from sklearn.ensemble import RandomForestRegressor\n",
    "\n",
    "test_x_nines= test_nines[features_nines]\n",
    "train_x_nines= train_nines[features_nines]\n",
    "X = train_x_nines\n",
    "y = train_nines['Grad_GPA']\n",
    "\n",
    "rf = RandomForestRegressor(n_jobs=-1)\n",
    "estimator = rf.set_params(bootstrap=grid_search_nines[1]['bootstrap'], \n",
    "                          max_features=grid_search_nines[1]['max_features'],\n",
    "                          min_samples_split=grid_search_nines[1]['min_samples_split'],\n",
    "                          n_estimators=grid_search_nines[1]['n_estimators'])\n",
    "\n",
    "estimator.fit(X,y)\n",
    "\n",
    "cum = test_nines['Grad_GPA'].values\n",
    "\n",
    "print (\"R2 score:\", estimator.score(test_x_nines, cum))\n",
    "\n",
    "estimator.feature_importances_\n",
    "\n",
    "df_9 = pd.DataFrame(estimator.feature_importances_, test_x_nines.columns.values)\n",
    "df_9.columns = ['correlations']\n",
    "df_9 = df_9.sort_values('correlations', ascending=False)\n",
    "df_9.head(10)"
   ]
  },
  {
   "cell_type": "code",
   "execution_count": 22,
   "metadata": {},
   "outputs": [
    {
     "data": {
      "text/plain": [
       "<matplotlib.lines.Line2D at 0x113ae40f0>"
      ]
     },
     "execution_count": 22,
     "metadata": {},
     "output_type": "execute_result"
    },
    {
     "data": {
      "image/png": "[encoded data removed]",
      "text/plain": [
       "<Figure size 432x288 with 1 Axes>"
      ]
     },
     "metadata": {},
     "output_type": "display_data"
    }
   ],
   "source": [
    "df_9[0:8].plot(kind='bar'); plt.axhline(0, color='k')"
   ]
  },
  {
   "cell_type": "markdown",
   "metadata": {},
   "source": [
    "## Takeaways\n",
    "#### While the r^2 shows that an admissions profile is quite a poor predictor of academic success, although 9th grade admitted students much better than 6th, it is still interesting to see that 9th grade Verbal standardized test scores are much more predictive of success (9 times) than, say, math scores.\n",
    "#### Another interesting finding, below, is that while 9th graders have slightly higher admissions test scores, students who come in 6th grade graduate with higher GPAs, suggesting that the strong middle school education gives the students an advantage in high school"
   ]
  },
  {
   "cell_type": "code",
   "execution_count": 23,
   "metadata": {},
   "outputs": [],
   "source": [
    "# plot changes over time by finding average \n",
    "df_tests = list(['Reading']+['Quantitative']+\n",
    "                      ['Verbal']+['Math'])\n",
    "tests = df.copy()[df_tests]\n",
    "tests['avg']= tests.mean(1)"
   ]
  },
  {
   "cell_type": "code",
   "execution_count": 24,
   "metadata": {},
   "outputs": [
    {
     "data": {
      "text/html": [
       "<div>\n",
       "<style scoped>\n",
       "    .dataframe tbody tr th:only-of-type {\n",
       "        vertical-align: middle;\n",
       "    }\n",
       "\n",
       "    .dataframe tbody tr th {\n",
       "        vertical-align: top;\n",
       "    }\n",
       "\n",
       "    .dataframe thead th {\n",
       "        text-align: right;\n",
       "    }\n",
       "</style>\n",
       "<table border=\"1\" class=\"dataframe\">\n",
       "  <thead>\n",
       "    <tr style=\"text-align: right;\">\n",
       "      <th></th>\n",
       "      <th>Reading</th>\n",
       "      <th>Quantitative</th>\n",
       "      <th>Verbal</th>\n",
       "      <th>Math</th>\n",
       "      <th>avg6</th>\n",
       "    </tr>\n",
       "  </thead>\n",
       "  <tbody>\n",
       "    <tr>\n",
       "      <th>count</th>\n",
       "      <td>182.000000</td>\n",
       "      <td>182.000000</td>\n",
       "      <td>182.000000</td>\n",
       "      <td>182.000000</td>\n",
       "      <td>182.000000</td>\n",
       "    </tr>\n",
       "    <tr>\n",
       "      <th>mean</th>\n",
       "      <td>73.510989</td>\n",
       "      <td>80.483516</td>\n",
       "      <td>78.752747</td>\n",
       "      <td>80.917582</td>\n",
       "      <td>78.416209</td>\n",
       "    </tr>\n",
       "    <tr>\n",
       "      <th>std</th>\n",
       "      <td>22.388765</td>\n",
       "      <td>20.142236</td>\n",
       "      <td>19.489319</td>\n",
       "      <td>19.408912</td>\n",
       "      <td>15.915117</td>\n",
       "    </tr>\n",
       "    <tr>\n",
       "      <th>min</th>\n",
       "      <td>1.000000</td>\n",
       "      <td>4.000000</td>\n",
       "      <td>9.000000</td>\n",
       "      <td>14.000000</td>\n",
       "      <td>25.750000</td>\n",
       "    </tr>\n",
       "    <tr>\n",
       "      <th>25%</th>\n",
       "      <td>64.000000</td>\n",
       "      <td>72.000000</td>\n",
       "      <td>67.250000</td>\n",
       "      <td>73.000000</td>\n",
       "      <td>69.812500</td>\n",
       "    </tr>\n",
       "    <tr>\n",
       "      <th>50%</th>\n",
       "      <td>77.000000</td>\n",
       "      <td>88.000000</td>\n",
       "      <td>84.000000</td>\n",
       "      <td>87.000000</td>\n",
       "      <td>82.750000</td>\n",
       "    </tr>\n",
       "    <tr>\n",
       "      <th>75%</th>\n",
       "      <td>91.500000</td>\n",
       "      <td>96.750000</td>\n",
       "      <td>94.000000</td>\n",
       "      <td>96.000000</td>\n",
       "      <td>91.687500</td>\n",
       "    </tr>\n",
       "    <tr>\n",
       "      <th>max</th>\n",
       "      <td>99.000000</td>\n",
       "      <td>99.000000</td>\n",
       "      <td>99.000000</td>\n",
       "      <td>99.000000</td>\n",
       "      <td>99.000000</td>\n",
       "    </tr>\n",
       "  </tbody>\n",
       "</table>\n",
       "</div>"
      ],
      "text/plain": [
       "          Reading  Quantitative      Verbal        Math        avg6\n",
       "count  182.000000    182.000000  182.000000  182.000000  182.000000\n",
       "mean    73.510989     80.483516   78.752747   80.917582   78.416209\n",
       "std     22.388765     20.142236   19.489319   19.408912   15.915117\n",
       "min      1.000000      4.000000    9.000000   14.000000   25.750000\n",
       "25%     64.000000     72.000000   67.250000   73.000000   69.812500\n",
       "50%     77.000000     88.000000   84.000000   87.000000   82.750000\n",
       "75%     91.500000     96.750000   94.000000   96.000000   91.687500\n",
       "max     99.000000     99.000000   99.000000   99.000000   99.000000"
      ]
     },
     "execution_count": 24,
     "metadata": {},
     "output_type": "execute_result"
    }
   ],
   "source": [
    "tests_sixes = sixes.copy()[df_tests]\n",
    "tests_sixes['avg6']= tests_sixes.mean(1)\n",
    "tests_sixes.describe()"
   ]
  },
  {
   "cell_type": "code",
   "execution_count": 25,
   "metadata": {},
   "outputs": [
    {
     "data": {
      "text/html": [
       "<div>\n",
       "<style scoped>\n",
       "    .dataframe tbody tr th:only-of-type {\n",
       "        vertical-align: middle;\n",
       "    }\n",
       "\n",
       "    .dataframe tbody tr th {\n",
       "        vertical-align: top;\n",
       "    }\n",
       "\n",
       "    .dataframe thead th {\n",
       "        text-align: right;\n",
       "    }\n",
       "</style>\n",
       "<table border=\"1\" class=\"dataframe\">\n",
       "  <thead>\n",
       "    <tr style=\"text-align: right;\">\n",
       "      <th></th>\n",
       "      <th>6th entrance tests</th>\n",
       "      <th>9th entrance tests</th>\n",
       "    </tr>\n",
       "  </thead>\n",
       "  <tbody>\n",
       "    <tr>\n",
       "      <th>25%</th>\n",
       "      <td>69.8125</td>\n",
       "      <td>72.50</td>\n",
       "    </tr>\n",
       "    <tr>\n",
       "      <th>50%</th>\n",
       "      <td>82.7500</td>\n",
       "      <td>85.75</td>\n",
       "    </tr>\n",
       "    <tr>\n",
       "      <th>75%</th>\n",
       "      <td>91.6875</td>\n",
       "      <td>92.00</td>\n",
       "    </tr>\n",
       "    <tr>\n",
       "      <th>max</th>\n",
       "      <td>99.0000</td>\n",
       "      <td>99.00</td>\n",
       "    </tr>\n",
       "  </tbody>\n",
       "</table>\n",
       "</div>"
      ],
      "text/plain": [
       "     6th entrance tests  9th entrance tests\n",
       "25%             69.8125               72.50\n",
       "50%             82.7500               85.75\n",
       "75%             91.6875               92.00\n",
       "max             99.0000               99.00"
      ]
     },
     "execution_count": 25,
     "metadata": {},
     "output_type": "execute_result"
    },
    {
     "data": {
      "image/png": "[encoded data removed]",
      "text/plain": [
       "<Figure size 432x288 with 1 Axes>"
      ]
     },
     "metadata": {},
     "output_type": "display_data"
    }
   ],
   "source": [
    "tests_nines = nines.copy()[df_tests]\n",
    "tests_nines['avg9']= tests_nines.mean(1)\n",
    "tests_nines.describe()\n",
    "\n",
    "tests = pd.concat([tests_sixes['avg6'].to_frame(), tests_nines['avg9'].to_frame()], axis = 1)\n",
    "tests = tests.rename(index=str, columns={'avg6':'6th entrance tests','avg9':'9th entrance tests'})\n",
    "\n",
    "tests.boxplot()\n",
    "desc = tests.describe().drop((['count','mean', 'std', 'min']))\n",
    "desc\n",
    "\n"
   ]
  },
  {
   "cell_type": "code",
   "execution_count": 26,
   "metadata": {},
   "outputs": [
    {
     "data": {
      "text/html": [
       "<div>\n",
       "<style scoped>\n",
       "    .dataframe tbody tr th:only-of-type {\n",
       "        vertical-align: middle;\n",
       "    }\n",
       "\n",
       "    .dataframe tbody tr th {\n",
       "        vertical-align: top;\n",
       "    }\n",
       "\n",
       "    .dataframe thead th {\n",
       "        text-align: right;\n",
       "    }\n",
       "</style>\n",
       "<table border=\"1\" class=\"dataframe\">\n",
       "  <thead>\n",
       "    <tr style=\"text-align: right;\">\n",
       "      <th></th>\n",
       "      <th>6s GPAs</th>\n",
       "      <th>9s GPAs</th>\n",
       "    </tr>\n",
       "  </thead>\n",
       "  <tbody>\n",
       "    <tr>\n",
       "      <th>25%</th>\n",
       "      <td>3.59</td>\n",
       "      <td>3.40</td>\n",
       "    </tr>\n",
       "    <tr>\n",
       "      <th>50%</th>\n",
       "      <td>3.83</td>\n",
       "      <td>3.70</td>\n",
       "    </tr>\n",
       "    <tr>\n",
       "      <th>75%</th>\n",
       "      <td>4.04</td>\n",
       "      <td>3.96</td>\n",
       "    </tr>\n",
       "  </tbody>\n",
       "</table>\n",
       "</div>"
      ],
      "text/plain": [
       "     6s GPAs  9s GPAs\n",
       "25%     3.59     3.40\n",
       "50%     3.83     3.70\n",
       "75%     4.04     3.96"
      ]
     },
     "execution_count": 26,
     "metadata": {},
     "output_type": "execute_result"
    },
    {
     "data": {
      "image/png": "[encoded data removed]",
      "text/plain": [
       "<Figure size 432x288 with 1 Axes>"
      ]
     },
     "metadata": {},
     "output_type": "display_data"
    }
   ],
   "source": [
    "sixes_v_nines = pd.DataFrame({ '6s GPAs' : sixes['Grad_GPA'],'9s GPAs' : nines['Grad_GPA']})\n",
    "sixes_v_nines.boxplot()\n",
    "\n",
    "desc = sixes_v_nines.describe().drop((['count','mean', 'std', 'min', 'max']))\n",
    "desc.round(2)"
   ]
  }
 ],
 "metadata": {
  "anaconda-cloud": {},
  "kernelspec": {
   "display_name": "Python [default]",
   "language": "python",
   "name": "python3"
  },
  "language_info": {
   "codemirror_mode": {
    "name": "ipython",
    "version": 3
   },
   "file_extension": ".py",
   "mimetype": "text/x-python",
   "name": "python",
   "nbconvert_exporter": "python",
   "pygments_lexer": "ipython3",
   "version": "3.5.5"
  },
  "nbpresent": {
   "slides": {},
   "themes": {
    "default": "b52022e4-adbb-45c5-967d-2125f5316c2b",
    "theme": {}
   }
  }
 },
 "nbformat": 4,
 "nbformat_minor": 1
}
